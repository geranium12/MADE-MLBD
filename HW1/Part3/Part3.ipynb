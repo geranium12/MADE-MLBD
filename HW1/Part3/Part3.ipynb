{
 "cells": [
  {
   "cell_type": "code",
   "execution_count": 44,
   "id": "c8e3fcbe-9c79-4375-922e-8cf9b88c06a7",
   "metadata": {},
   "outputs": [],
   "source": [
    "import sys\n",
    "import csv\n",
    "from typing import List\n",
    "import numpy as np"
   ]
  },
  {
   "cell_type": "code",
   "execution_count": 45,
   "id": "1d246956-e182-440b-a861-0c5d2a7d6a23",
   "metadata": {},
   "outputs": [],
   "source": [
    "CHUNK_SIZE = 10"
   ]
  },
  {
   "cell_type": "code",
   "execution_count": 46,
   "id": "8eb2af2a-cd06-4274-8618-c5ee0e973636",
   "metadata": {},
   "outputs": [],
   "source": [
    "def read(file):\n",
    "    reader = csv.reader(file, delimiter=',')\n",
    "    next(reader, None)\n",
    "    values = []\n",
    "    for i, j in enumerate(reader):\n",
    "        try:\n",
    "            values.append(float(j[0]))\n",
    "        except ValueError:\n",
    "            pass\n",
    "    print(len(values), np.mean(values), np.var(values))"
   ]
  },
  {
   "cell_type": "code",
   "execution_count": 47,
   "id": "be6d7b48-b197-4e2c-a28c-e154b6204e94",
   "metadata": {},
   "outputs": [
    {
     "name": "stdout",
     "output_type": "stream",
     "text": [
      "48825 152.7110154519201 57672.25478303717\n"
     ]
    }
   ],
   "source": [
    "read(open(\"data/data.csv\", \"r\"))"
   ]
  },
  {
   "cell_type": "code",
   "execution_count": null,
   "id": "c9a9c57b-f3ee-4f15-8fda-d88bcf1579a1",
   "metadata": {},
   "outputs": [],
   "source": []
  }
 ],
 "metadata": {
  "kernelspec": {
   "display_name": "Python 3 (ipykernel)",
   "language": "python",
   "name": "python3"
  },
  "language_info": {
   "codemirror_mode": {
    "name": "ipython",
    "version": 3
   },
   "file_extension": ".py",
   "mimetype": "text/x-python",
   "name": "python",
   "nbconvert_exporter": "python",
   "pygments_lexer": "ipython3",
   "version": "3.8.10"
  }
 },
 "nbformat": 4,
 "nbformat_minor": 5
}
